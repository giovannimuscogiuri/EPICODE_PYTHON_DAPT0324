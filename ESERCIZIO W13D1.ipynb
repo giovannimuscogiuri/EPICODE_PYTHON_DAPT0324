{
 "cells": [
  {
   "cell_type": "code",
   "execution_count": 2,
   "id": "7d7daad8-3fbd-403b-b0b5-af93172bec47",
   "metadata": {},
   "outputs": [],
   "source": [
    "studenti = 25"
   ]
  },
  {
   "cell_type": "code",
   "execution_count": 8,
   "id": "fe3189d6-6224-472f-a673-70c6e4d43a8a",
   "metadata": {},
   "outputs": [
    {
     "name": "stdout",
     "output_type": "stream",
     "text": [
      "25\n"
     ]
    }
   ],
   "source": [
    "print(studenti)"
   ]
  },
  {
   "cell_type": "code",
   "execution_count": 10,
   "id": "a4c66f6b-4ed6-4448-ae4f-abb5abb2ee0f",
   "metadata": {},
   "outputs": [],
   "source": [
    "studenti_nuovi = 3"
   ]
  },
  {
   "cell_type": "code",
   "execution_count": 12,
   "id": "a3999fcd-c06c-4ae4-b169-8eb06c2096b3",
   "metadata": {},
   "outputs": [],
   "source": [
    "studenti_tot = studenti + studenti_nuovi"
   ]
  },
  {
   "cell_type": "code",
   "execution_count": 18,
   "id": "86c05c2e-9e1a-41c0-918f-58977e11d7d5",
   "metadata": {},
   "outputs": [],
   "source": [
    "corso = 'Epicode'"
   ]
  },
  {
   "cell_type": "code",
   "execution_count": 20,
   "id": "beaf7139-f69c-4051-950e-58f553cd2e7b",
   "metadata": {},
   "outputs": [
    {
     "name": "stdout",
     "output_type": "stream",
     "text": [
      "Epicode\n"
     ]
    }
   ],
   "source": [
    "print(corso)"
   ]
  },
  {
   "cell_type": "code",
   "execution_count": 22,
   "id": "b37ba376-c1ed-43ba-ade0-c29e9a4311b0",
   "metadata": {},
   "outputs": [],
   "source": [
    "x = 10"
   ]
  },
  {
   "cell_type": "code",
   "execution_count": 24,
   "id": "813fe8ef-e582-424b-baef-e2bef22b7ef1",
   "metadata": {},
   "outputs": [
    {
     "data": {
      "text/plain": [
       "36"
      ]
     },
     "execution_count": 24,
     "metadata": {},
     "output_type": "execute_result"
    }
   ],
   "source": [
    "(x+2)*3"
   ]
  },
  {
   "cell_type": "code",
   "execution_count": 26,
   "id": "c6aeaaf0-9d0e-48bf-abbf-3675908786a0",
   "metadata": {},
   "outputs": [],
   "source": [
    "x *= x + 2"
   ]
  },
  {
   "cell_type": "code",
   "execution_count": 36,
   "id": "909e1c07-e9ad-43fc-b7ac-bcb60a406155",
   "metadata": {},
   "outputs": [],
   "source": [
    "str1 = \"Windows\"; str2 = \"Excel\"; str3 = \"Powerpoint\"; str4 = \"Word\""
   ]
  },
  {
   "cell_type": "code",
   "execution_count": 40,
   "id": "365e1014-683e-4609-9ffa-deb8c53b90c2",
   "metadata": {},
   "outputs": [
    {
     "data": {
      "text/plain": [
       "7"
      ]
     },
     "execution_count": 40,
     "metadata": {},
     "output_type": "execute_result"
    }
   ],
   "source": [
    "len(str1)"
   ]
  },
  {
   "cell_type": "code",
   "execution_count": 42,
   "id": "b56961d1-a888-467d-bbb7-c9301979e57c",
   "metadata": {},
   "outputs": [
    {
     "data": {
      "text/plain": [
       "5"
      ]
     },
     "execution_count": 42,
     "metadata": {},
     "output_type": "execute_result"
    }
   ],
   "source": [
    "len(str2)"
   ]
  },
  {
   "cell_type": "code",
   "execution_count": 44,
   "id": "9ff31102-ba37-45e3-8e4c-50ef6876290e",
   "metadata": {},
   "outputs": [
    {
     "data": {
      "text/plain": [
       "10"
      ]
     },
     "execution_count": 44,
     "metadata": {},
     "output_type": "execute_result"
    }
   ],
   "source": [
    "len(str3)"
   ]
  },
  {
   "cell_type": "code",
   "execution_count": 46,
   "id": "001cf717-7968-4667-92fb-a4b007d55a9f",
   "metadata": {},
   "outputs": [
    {
     "data": {
      "text/plain": [
       "4"
      ]
     },
     "execution_count": 46,
     "metadata": {},
     "output_type": "execute_result"
    }
   ],
   "source": [
    "len(str4)"
   ]
  },
  {
   "cell_type": "code",
   "execution_count": 48,
   "id": "ba9dc3c1-3947-4c76-a562-d1f1384032e7",
   "metadata": {},
   "outputs": [
    {
     "name": "stdout",
     "output_type": "stream",
     "text": [
      "31536000\n"
     ]
    }
   ],
   "source": [
    "secondi_anno_bisestile = 365*24*60*60\n",
    "print(secondi_anno_bisestile)"
   ]
  },
  {
   "cell_type": "code",
   "execution_count": 50,
   "id": "04bf4dea-c0e6-478f-ac35-54653d6eefa7",
   "metadata": {},
   "outputs": [],
   "source": [
    "my_string = \"I am studying Python\""
   ]
  },
  {
   "cell_type": "code",
   "execution_count": 58,
   "id": "f6c9027f-7b70-4889-b9b5-723f5d0bfb04",
   "metadata": {},
   "outputs": [
    {
     "data": {
      "text/plain": [
       "'I AM STUDYING PYTHON'"
      ]
     },
     "execution_count": 58,
     "metadata": {},
     "output_type": "execute_result"
    }
   ],
   "source": [
    "my_string.upper()"
   ]
  },
  {
   "cell_type": "code",
   "execution_count": 60,
   "id": "a54714a5-ebd6-4644-ae18-6a9653ffc918",
   "metadata": {},
   "outputs": [
    {
     "data": {
      "text/plain": [
       "'i am studying python'"
      ]
     },
     "execution_count": 60,
     "metadata": {},
     "output_type": "execute_result"
    }
   ],
   "source": [
    "my_string.lower()"
   ]
  },
  {
   "cell_type": "code",
   "execution_count": 62,
   "id": "8075073a-ff19-4eb9-bf2e-c4c9c5977420",
   "metadata": {},
   "outputs": [
    {
     "data": {
      "text/plain": [
       "'I am studying a lot'"
      ]
     },
     "execution_count": 62,
     "metadata": {},
     "output_type": "execute_result"
    }
   ],
   "source": [
    "my_string.replace('Python','a lot')"
   ]
  },
  {
   "cell_type": "code",
   "execution_count": 64,
   "id": "1d00a10b-4480-4489-8915-aaf5394ab91e",
   "metadata": {},
   "outputs": [
    {
     "data": {
      "text/plain": [
       "'I am studying Python'"
      ]
     },
     "execution_count": 64,
     "metadata": {},
     "output_type": "execute_result"
    }
   ],
   "source": [
    "my_string.strip()"
   ]
  },
  {
   "cell_type": "code",
   "execution_count": null,
   "id": "7741fae3-7267-403e-aac2-5f44724a3d80",
   "metadata": {},
   "outputs": [],
   "source": []
  }
 ],
 "metadata": {
  "kernelspec": {
   "display_name": "Python 3 (ipykernel)",
   "language": "python",
   "name": "python3"
  },
  "language_info": {
   "codemirror_mode": {
    "name": "ipython",
    "version": 3
   },
   "file_extension": ".py",
   "mimetype": "text/x-python",
   "name": "python",
   "nbconvert_exporter": "python",
   "pygments_lexer": "ipython3",
   "version": "3.12.4"
  }
 },
 "nbformat": 4,
 "nbformat_minor": 5
}
