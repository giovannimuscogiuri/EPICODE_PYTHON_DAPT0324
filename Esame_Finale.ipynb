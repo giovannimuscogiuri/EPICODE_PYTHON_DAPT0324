{
 "cells": [
  {
   "cell_type": "code",
   "execution_count": 1,
   "id": "908ea913-cd2f-4cb7-8389-93f6dc568d6e",
   "metadata": {},
   "outputs": [],
   "source": [
    "import pandas as pd\n",
    "import numpy as np\n",
    "import seaborn as sns"
   ]
  },
  {
   "cell_type": "code",
   "execution_count": 7,
   "id": "fc1f512a-ae6a-4f15-a0d2-f51439d4e67d",
   "metadata": {},
   "outputs": [
    {
     "ename": "NameError",
     "evalue": "name 'owid_covid_data' is not defined",
     "output_type": "error",
     "traceback": [
      "\u001b[1;31m---------------------------------------------------------------------------\u001b[0m",
      "\u001b[1;31mNameError\u001b[0m                                 Traceback (most recent call last)",
      "Cell \u001b[1;32mIn[7], line 1\u001b[0m\n\u001b[1;32m----> 1\u001b[0m df \u001b[38;5;241m=\u001b[39m pd\u001b[38;5;241m.\u001b[39mread_csv(owid_covid_data\u001b[38;5;241m.\u001b[39mcsv)\n",
      "\u001b[1;31mNameError\u001b[0m: name 'owid_covid_data' is not defined"
     ]
    }
   ],
   "source": [
    "df = pd.read_csv(owid_covid_data.csv)"
   ]
  },
  {
   "cell_type": "code",
   "execution_count": null,
   "id": "a018f66e-7f1e-458a-9c88-58718844a0f1",
   "metadata": {},
   "outputs": [],
   "source": []
  }
 ],
 "metadata": {
  "kernelspec": {
   "display_name": "Python 3 (ipykernel)",
   "language": "python",
   "name": "python3"
  },
  "language_info": {
   "codemirror_mode": {
    "name": "ipython",
    "version": 3
   },
   "file_extension": ".py",
   "mimetype": "text/x-python",
   "name": "python",
   "nbconvert_exporter": "python",
   "pygments_lexer": "ipython3",
   "version": "3.12.4"
  }
 },
 "nbformat": 4,
 "nbformat_minor": 5
}
